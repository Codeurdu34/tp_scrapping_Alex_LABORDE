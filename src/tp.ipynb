{
 "cells": [
  {
   "cell_type": "markdown",
   "metadata": {},
   "source": [
    "Scraping "
   ]
  },
  {
   "cell_type": "code",
   "execution_count": 143,
   "metadata": {},
   "outputs": [],
   "source": [
    "import requests\n",
    "from bs4 import BeautifulSoup\n",
    "\n",
    "\n",
    "url = 'https://www.numbeo.com/cost-of-living/in/Montpellier'\n",
    "\n",
    "header = { 'User-Agent': 'Mozilla/5.0 (Windows NT 10.0; Win64; x64) AppleWebKit/537.36 (KHTML, like Gecko) Chrome/132.0.0.0 Safari/537.36' }\n",
    "\n",
    "reponse = requests.get(url, headers=header)\n",
    "soup= BeautifulSoup(reponse.content, 'html.parser')\n",
    "\n",
    "\n",
    "\n",
    "f= open('index.html', 'w')\n",
    "f.write(soup.prettify())\n",
    "f.close()"
   ]
  },
  {
   "cell_type": "code",
   "execution_count": null,
   "metadata": {},
   "outputs": [],
   "source": [
    "import pandas as pd \n",
    "import re \n",
    "import csv\n",
    "\n",
    "\n",
    "with open(\"index.html\") as fp:\n",
    "    soup = BeautifulSoup(fp, 'html.parser')\n",
    "donnees_sale = soup.select('tr td')\n"
   ]
  },
  {
   "cell_type": "code",
   "execution_count": null,
   "metadata": {},
   "outputs": [],
   "source": [
    "lignes = soup.select('tr') # recupe toute les lignes"
   ]
  },
  {
   "cell_type": "code",
   "execution_count": 142,
   "metadata": {},
   "outputs": [],
   "source": [
    "# print(lignes)"
   ]
  },
  {
   "cell_type": "code",
   "execution_count": 140,
   "metadata": {},
   "outputs": [],
   "source": [
    "def clean_data(data):\n",
    "    cleaned_data = re.sub(r'\\s+', ' ', data).strip()\n",
    "    cleaned_data = cleaned_data.replace('km', '')\n",
    "    cleaned_data = cleaned_data.replace('\"', '')\n",
    "    cleaned_data = cleaned_data.replace(' €', '')\n",
    "    cleaned_data = re.sub(r'(?<=\\d),(?=\\d)', '',cleaned_data)\n",
    "    cleaned_data = cleaned_data.replace('\\xa0€', '')\n",
    "        \n",
    "    return cleaned_data.strip()"
   ]
  },
  {
   "cell_type": "code",
   "execution_count": 129,
   "metadata": {},
   "outputs": [],
   "source": [
    "def cree_categorie(lignes):\n",
    "    desc = []\n",
    "    prix = []\n",
    "    nearby_cities = []\n",
    "    nearby_cities_km = []\n",
    "    prix_min_max = []\n",
    "\n",
    "    for ligne in lignes:\n",
    "        cells = ligne.select('td')\n",
    "        if len(cells) == 1 or len(cells) == 0:\n",
    "            continue  # Ignore les lignes sans données pertinentes\n",
    "        elif len(cells) == 3:\n",
    "            desc.append(clean_data(cells[0].text))\n",
    "            prix.append(clean_data(cells[1].text))\n",
    "            prix_min_max.append(clean_data(cells[2].text))\n",
    "        elif len(cells) == 2:\n",
    "            nearby_cities.append(clean_data(cells[0].text))\n",
    "            nearby_cities_km.append(clean_data(cells[1].text))\n",
    "    \n",
    "    return desc, prix, prix_min_max, nearby_cities, nearby_cities_km\n"
   ]
  },
  {
   "cell_type": "code",
   "execution_count": 130,
   "metadata": {},
   "outputs": [
    {
     "name": "stdout",
     "output_type": "stream",
     "text": [
      "(['', 'Meal, Inexpensive Restaurant', 'Meal for 2 People, Mid-range Restaurant, Three-course', 'McMeal at McDonalds (or Equivalent Combo Meal)', 'Domestic Beer (0.5 liter draught)', 'Imported Beer (0.33 liter bottle)', 'Cappuccino (regular)', 'Coke/Pepsi (0.33 liter bottle)', 'Water (0.33 liter bottle)', 'Milk (regular), (1 liter)', 'Loaf of Fresh White Bread (500g)', 'Rice (white), (1kg)', 'Eggs (regular) (12)', 'Local Cheese (1kg)', 'Chicken Fillets (1kg)', 'Beef Round (1kg) (or Equivalent Back Leg Red Meat)', 'Apples (1kg)', 'Banana (1kg)', 'Oranges (1kg)', 'Tomato (1kg)', 'Potato (1kg)', 'Onion (1kg)', 'Lettuce (1 head)', 'Water (1.5 liter bottle)', 'Bottle of Wine (Mid-Range)', 'Domestic Beer (0.5 liter bottle)', 'Imported Beer (0.33 liter bottle)', 'Cigarettes 20 Pack (Marlboro)', 'One-way Ticket (Local Transport)', 'Monthly Pass (Regular Price)', 'Taxi Start (Normal Tariff)', 'Taxi 1 (Normal Tariff)', 'Taxi 1hour Waiting (Normal Tariff)', 'Gasoline (1 liter)', 'Volkswagen Golf 1.4 90 KW Trendline (Or Equivalent New Car)', 'Toyota Corolla Sedan 1.6l 97kW Comfort (Or Equivalent New Car)', 'Basic (Electricity, Heating, Cooling, Water, Garbage) for 85m2 Apartment', 'Mobile Phone Monthly Plan with Calls and 10GB+ Data', 'Internet (60 Mbps or More, Unlimited Data, Cable/ADSL)', 'Fitness Club, Monthly Fee for 1 Adult', 'Tennis Court Rent (1 Hour on Weekend)', 'Cinema, International Release, 1 Seat', 'Preschool (or Kindergarten), Full Day, Private, Monthly for 1 Child', 'International Primary School, Yearly for 1 Child', '1 Pair of Jeans (Levis 501 Or Similar)', '1 Summer Dress in a Chain Store (Zara, H&M, ...)', '1 Pair of Nike Running Shoes (Mid-Range)', '1 Pair of Men Leather Business Shoes', 'Apartment (1 bedroom) in City Centre', 'Apartment (1 bedroom) Outside of Centre', 'Apartment (3 bedrooms) in City Centre', 'Apartment (3 bedrooms) Outside of Centre', 'Price per Square Meter to Buy Apartment in City Centre', 'Price per Square Meter to Buy Apartment Outside of Centre', 'Average Monthly Net Salary (After Tax)', 'Mortgage Interest Rate in Percentages (%), Yearly, for 20 Years Fixed-Rate'], ['', '15.00', '60.00', '11.00', '5.00', '4.00', '3.29', '2.48', '1.64', '1.23', '1.86', '2.20', '3.49', '14.80', '13.94', '23.49', '2.76', '2.29', '2.92', '3.42', '2.03', '2.29', '1.43', '0.44', '7.50', '2.62', '3.37', '12.00', '1.60', '35.00', '4.50', '1.50', '29.00', '1.79', '32395.00', '33312.50', '225.56', '25.18', '29.19', '33.65', '25.00', '12.00', '675.00', '7000.00', '87.50', '38.75', '91.67', '156.67', '698.75', '638.75', '1150.00', '950.00', '4730.00', '4012.50', '2113.38', '3.66'], ['', '10.00 - 25.00', '40.00 - 75.00', '10.00 - 12.00', '3.00 - 7.00', '3.50 - 5.00', '2.00 - 5.00', '2.00 - 3.50', '1.00 - 2.75', '1.00 - 1.85', '1.20 - 6.00', '1.50 - 3.00', '1.97 - 6.00', '8.50 - 24.00', '10.00 - 18.00', '16.00 - 28.00', '2.00 - 3.00', '1.50 - 5.00', '1.55 - 4.00', '2.20 - 4.00', '1.00 - 2.50', '2.00 - 3.00', '1.19 - 2.00', '0.19 - 1.30', '5.75 - 9.00', '1.25 - 5.00', '1.00 - 5.00', '11.00 - 12.50', '1.10 - 1.90', '0.00 - 86.96', '4.00 - 5.00', '1.50 - 1.50', '28.00 - 30.00', '1.72 - 1.90', '29900.00 - 32395.00', '33750.00 - 33750.00', '148.75 - 350.00', '10.00 - 31.99', '22.50 - 35.00', '25.00 - 45.00', '15.00 - 40.00', '11.00 - 15.00', '650.00 - 700.00', '6000.00 - 8000.00', '45.00 - 110.00', '20.00 - 60.00', '60.00 - 125.00', '75.00 - 230.00', '600.00 - 800.00', '500.00 - 740.00', '1000.00 - 1500.00', '900.00 - 1350.00', '4500.00 - 6100.00', '3750.00 - 4500.00', '', '3.50 - 3.85'], ['URL:', 'Description:', 'Your Email Address:', 'Cost of Living in Nimes', 'Cost of Living in Avignon', 'Cost of Living in Aix-en-Provence', 'Cost of Living in Perpignan', 'Cost of Living in Marseille', 'Cost of Living in Valence', 'Cost of Living in Toulon', 'Cost of Living in Toulouse', 'Cost of Living in Grenoble', 'Cost of Living in Lyon'], ['', '', '', '54.68', '95.08', '154.14', '154.64', '168.61', '203.15', '232.85', '242.82', '294.99', '303.20'])\n"
     ]
    }
   ],
   "source": [
    "lignes = soup.select('tr') \n",
    "donnees_epurees = cree_categorie(lignes)\n",
    "print(donnees_epurees)"
   ]
  },
  {
   "cell_type": "code",
   "execution_count": 131,
   "metadata": {},
   "outputs": [],
   "source": [
    "def trouver_prix_min_max(donnees_epurees):\n",
    "    prix_min = []\n",
    "    prix_max = []\n",
    "    \n",
    "    for prix in donnees_epurees[2]:  # La liste des plages de prix\n",
    "        if '-' in prix:  # Vérifie si une plage existe\n",
    "            parts = prix.split('-')\n",
    "            prix_min.append(float(parts[0].strip()))  # Supprime les espaces et convertit en float\n",
    "            prix_max.append(float(parts[1].strip()))\n",
    "        else:\n",
    "            prix_min.append(None)  # Aucun prix minimum défini\n",
    "            prix_max.append(None)  # Aucun prix maximum défini\n",
    "    \n",
    "    return prix_min, prix_max\n",
    "\n"
   ]
  },
  {
   "cell_type": "code",
   "execution_count": 132,
   "metadata": {},
   "outputs": [
    {
     "name": "stdout",
     "output_type": "stream",
     "text": [
      "Données complètes : (['', 'Meal, Inexpensive Restaurant', 'Meal for 2 People, Mid-range Restaurant, Three-course', 'McMeal at McDonalds (or Equivalent Combo Meal)', 'Domestic Beer (0.5 liter draught)', 'Imported Beer (0.33 liter bottle)', 'Cappuccino (regular)', 'Coke/Pepsi (0.33 liter bottle)', 'Water (0.33 liter bottle)', 'Milk (regular), (1 liter)', 'Loaf of Fresh White Bread (500g)', 'Rice (white), (1kg)', 'Eggs (regular) (12)', 'Local Cheese (1kg)', 'Chicken Fillets (1kg)', 'Beef Round (1kg) (or Equivalent Back Leg Red Meat)', 'Apples (1kg)', 'Banana (1kg)', 'Oranges (1kg)', 'Tomato (1kg)', 'Potato (1kg)', 'Onion (1kg)', 'Lettuce (1 head)', 'Water (1.5 liter bottle)', 'Bottle of Wine (Mid-Range)', 'Domestic Beer (0.5 liter bottle)', 'Imported Beer (0.33 liter bottle)', 'Cigarettes 20 Pack (Marlboro)', 'One-way Ticket (Local Transport)', 'Monthly Pass (Regular Price)', 'Taxi Start (Normal Tariff)', 'Taxi 1 (Normal Tariff)', 'Taxi 1hour Waiting (Normal Tariff)', 'Gasoline (1 liter)', 'Volkswagen Golf 1.4 90 KW Trendline (Or Equivalent New Car)', 'Toyota Corolla Sedan 1.6l 97kW Comfort (Or Equivalent New Car)', 'Basic (Electricity, Heating, Cooling, Water, Garbage) for 85m2 Apartment', 'Mobile Phone Monthly Plan with Calls and 10GB+ Data', 'Internet (60 Mbps or More, Unlimited Data, Cable/ADSL)', 'Fitness Club, Monthly Fee for 1 Adult', 'Tennis Court Rent (1 Hour on Weekend)', 'Cinema, International Release, 1 Seat', 'Preschool (or Kindergarten), Full Day, Private, Monthly for 1 Child', 'International Primary School, Yearly for 1 Child', '1 Pair of Jeans (Levis 501 Or Similar)', '1 Summer Dress in a Chain Store (Zara, H&M, ...)', '1 Pair of Nike Running Shoes (Mid-Range)', '1 Pair of Men Leather Business Shoes', 'Apartment (1 bedroom) in City Centre', 'Apartment (1 bedroom) Outside of Centre', 'Apartment (3 bedrooms) in City Centre', 'Apartment (3 bedrooms) Outside of Centre', 'Price per Square Meter to Buy Apartment in City Centre', 'Price per Square Meter to Buy Apartment Outside of Centre', 'Average Monthly Net Salary (After Tax)', 'Mortgage Interest Rate in Percentages (%), Yearly, for 20 Years Fixed-Rate'], ['', '15.00', '60.00', '11.00', '5.00', '4.00', '3.29', '2.48', '1.64', '1.23', '1.86', '2.20', '3.49', '14.80', '13.94', '23.49', '2.76', '2.29', '2.92', '3.42', '2.03', '2.29', '1.43', '0.44', '7.50', '2.62', '3.37', '12.00', '1.60', '35.00', '4.50', '1.50', '29.00', '1.79', '32395.00', '33312.50', '225.56', '25.18', '29.19', '33.65', '25.00', '12.00', '675.00', '7000.00', '87.50', '38.75', '91.67', '156.67', '698.75', '638.75', '1150.00', '950.00', '4730.00', '4012.50', '2113.38', '3.66'], ['', '10.00 - 25.00', '40.00 - 75.00', '10.00 - 12.00', '3.00 - 7.00', '3.50 - 5.00', '2.00 - 5.00', '2.00 - 3.50', '1.00 - 2.75', '1.00 - 1.85', '1.20 - 6.00', '1.50 - 3.00', '1.97 - 6.00', '8.50 - 24.00', '10.00 - 18.00', '16.00 - 28.00', '2.00 - 3.00', '1.50 - 5.00', '1.55 - 4.00', '2.20 - 4.00', '1.00 - 2.50', '2.00 - 3.00', '1.19 - 2.00', '0.19 - 1.30', '5.75 - 9.00', '1.25 - 5.00', '1.00 - 5.00', '11.00 - 12.50', '1.10 - 1.90', '0.00 - 86.96', '4.00 - 5.00', '1.50 - 1.50', '28.00 - 30.00', '1.72 - 1.90', '29900.00 - 32395.00', '33750.00 - 33750.00', '148.75 - 350.00', '10.00 - 31.99', '22.50 - 35.00', '25.00 - 45.00', '15.00 - 40.00', '11.00 - 15.00', '650.00 - 700.00', '6000.00 - 8000.00', '45.00 - 110.00', '20.00 - 60.00', '60.00 - 125.00', '75.00 - 230.00', '600.00 - 800.00', '500.00 - 740.00', '1000.00 - 1500.00', '900.00 - 1350.00', '4500.00 - 6100.00', '3750.00 - 4500.00', '', '3.50 - 3.85'], ['URL:', 'Description:', 'Your Email Address:', 'Cost of Living in Nimes', 'Cost of Living in Avignon', 'Cost of Living in Aix-en-Provence', 'Cost of Living in Perpignan', 'Cost of Living in Marseille', 'Cost of Living in Valence', 'Cost of Living in Toulon', 'Cost of Living in Toulouse', 'Cost of Living in Grenoble', 'Cost of Living in Lyon'], ['', '', '', '54.68', '95.08', '154.14', '154.64', '168.61', '203.15', '232.85', '242.82', '294.99', '303.20'], [None, 10.0, 40.0, 10.0, 3.0, 3.5, 2.0, 2.0, 1.0, 1.0, 1.2, 1.5, 1.97, 8.5, 10.0, 16.0, 2.0, 1.5, 1.55, 2.2, 1.0, 2.0, 1.19, 0.19, 5.75, 1.25, 1.0, 11.0, 1.1, 0.0, 4.0, 1.5, 28.0, 1.72, 29900.0, 33750.0, 148.75, 10.0, 22.5, 25.0, 15.0, 11.0, 650.0, 6000.0, 45.0, 20.0, 60.0, 75.0, 600.0, 500.0, 1000.0, 900.0, 4500.0, 3750.0, None, 3.5], [None, 25.0, 75.0, 12.0, 7.0, 5.0, 5.0, 3.5, 2.75, 1.85, 6.0, 3.0, 6.0, 24.0, 18.0, 28.0, 3.0, 5.0, 4.0, 4.0, 2.5, 3.0, 2.0, 1.3, 9.0, 5.0, 5.0, 12.5, 1.9, 86.96, 5.0, 1.5, 30.0, 1.9, 32395.0, 33750.0, 350.0, 31.99, 35.0, 45.0, 40.0, 15.0, 700.0, 8000.0, 110.0, 60.0, 125.0, 230.0, 800.0, 740.0, 1500.0, 1350.0, 6100.0, 4500.0, None, 3.85])\n"
     ]
    }
   ],
   "source": [
    "# Extraire les lignes du tableau\n",
    "lignes = soup.select('tr')\n",
    "\n",
    "# Nettoyer et extraire les données\n",
    "donnees_epurees = cree_categorie(lignes)\n",
    "\n",
    "# Extraire les prix minimum et maximum\n",
    "prix_min, prix_max = trouver_prix_min_max(donnees_epurees)\n",
    "\n",
    "# Ajouter les prix min/max aux données épurées\n",
    "desc, prix, prix_min_max, nearby_cities, nearby_cities_km = donnees_epurees\n",
    "donnees_completes = desc, prix, prix_min_max, nearby_cities, nearby_cities_km, prix_min, prix_max\n",
    "\n",
    "# Afficher les résultats\n",
    "print(\"Données complètes :\", donnees_completes)\n"
   ]
  },
  {
   "cell_type": "code",
   "execution_count": 133,
   "metadata": {},
   "outputs": [],
   "source": [
    "def organiser_data(donnees_epurees):\n",
    "    structured_data = []\n",
    "    for i in range(len(donnees_epurees[0])):\n",
    "        structured_data.append({\n",
    "            \"Description :\": donnees_epurees[0][i], \n",
    "            \"Prix moyen (€) :\": float(donnees_epurees[1][i]) if donnees_epurees[5][i] is not None else None,\n",
    "            \"Prix min - max (€) :\": donnees_epurees[2][i], \n",
    "            \"Prix min (€) :\": float(donnees_epurees[5][i]) if donnees_epurees[5][i] is not None else None,\n",
    "            \"Prix max (€) :\": float(donnees_epurees[6][i]) if donnees_epurees[5][i] is not None else None,\n",
    "            })\n",
    "        \n",
    "    for i in range(len(donnees_epurees[3])):\n",
    "        structured_data.append({\n",
    "            \"Ville proche :\": donnees_epurees[3][i], \n",
    "            \"Distance (km)\": (donnees_epurees[4][i])\n",
    "            })\n",
    "    return structured_data\n",
    "\n",
    "\n",
    "def oorganiser_data(donnees_epurees):\n",
    "    structured_data = []\n",
    "\n",
    "    # Ajout des descriptions et des prix\n",
    "    for i in range(len(donnees_epurees[0])):\n",
    "        structured_data.append({\n",
    "            \"Description\": donnees_epurees[0][i],\n",
    "            \"Prix moyen (€)\": float(donnees_epurees[1][i]),\n",
    "            \"Prix min - max (€)\": donnees_epurees[2][i],\n",
    "            \"Prix min (€)\": float(donnees_epurees[5][i]) if donnees_epurees[5][i] is not None else None,\n",
    "            \"Prix max (€)\": float(donnees_epurees[6][i]) if donnees_epurees[6][i] is not None else None,\n",
    "        })\n",
    "\n",
    "    # Ajout des villes proches et distances\n",
    "    villes_proches = []\n",
    "    for i in range(len(donnees_epurees[3])):\n",
    "        villes_proches.append({\n",
    "            \"Ville proche\": donnees_epurees[3][i],\n",
    "            \"Distance (km)\": float(donnees_epurees[4][i])\n",
    "        })\n",
    "\n",
    "    return {\"Produits\": structured_data, \"Villes proches\": villes_proches}\n"
   ]
  },
  {
   "cell_type": "code",
   "execution_count": 134,
   "metadata": {},
   "outputs": [],
   "source": [
    "lignes = soup.select('tr') \n",
    "donnees_epurees = cree_categorie(lignes)\n",
    "structured_data = organiser_data(donnees_completes)\n",
    "# print(structured_data)"
   ]
  },
  {
   "cell_type": "code",
   "execution_count": 135,
   "metadata": {},
   "outputs": [],
   "source": [
    "def transformer_dataframe(structured_data):\n",
    "    df = pd.DataFrame(structured_data)\n",
    "    print(df)\n",
    "    df.to_csv(\"cleaned_data.csv\", index=False)\n",
    "    return df"
   ]
  },
  {
   "cell_type": "code",
   "execution_count": 136,
   "metadata": {},
   "outputs": [],
   "source": [
    "lignes = soup.select('tr') \n",
    "donnees_epurees = cree_categorie(lignes)\n",
    "structured_data = organiser_data(donnees_completes)\n",
    "# print(structured_data)\n",
    "# a =transformer_dataframe(structured_data)\n",
    "\n"
   ]
  },
  {
   "cell_type": "code",
   "execution_count": 137,
   "metadata": {},
   "outputs": [],
   "source": [
    "\n",
    "# a\n",
    "\n",
    "\n"
   ]
  },
  {
   "cell_type": "code",
   "execution_count": 138,
   "metadata": {},
   "outputs": [],
   "source": [
    "def split_csv(file_path):\n",
    "    df = pd.read_csv(file_path, encoding=\"utf-8\")\n",
    "    \n",
    "    \n",
    "    price_columns = [\"Ville proche :\",\"Distance (km)\"]\n",
    "    df_price = df.drop(columns=price_columns)\n",
    "\n",
    "    \n",
    "    if \"Prix moyen (€) :\" in df_price.columns:\n",
    "        df_price = df_price[df_price[\"Prix moyen (€) :\"].notna()]\n",
    "\n",
    "    df_price.to_csv(\"cl_data_price.csv\", index=False, encoding=\"utf-8\")\n",
    "    \n",
    "  \n",
    "    size_columns = [\"Description :\",\"Prix moyen (€) :\",\"Prix min - max (€) :\",\"Prix min (€) :\",\"Prix max (€) :\"]\n",
    "    df_size = df.drop(columns=size_columns)\n",
    "    if \"Distance (km)\" in df_size.columns:\n",
    "        df_size = df_size[df_size[\"Distance (km)\"].notna()]\n",
    "    df_size.to_csv(\"cl_data_size.csv\", index=False, encoding=\"utf-8\")\n",
    "\n",
    "    \n",
    "    \n",
    "\n"
   ]
  },
  {
   "cell_type": "code",
   "execution_count": 139,
   "metadata": {},
   "outputs": [],
   "source": [
    "split_csv(\"./cleaned_data.csv\")"
   ]
  }
 ],
 "metadata": {
  "kernelspec": {
   "display_name": "Python 3",
   "language": "python",
   "name": "python3"
  },
  "language_info": {
   "codemirror_mode": {
    "name": "ipython",
    "version": 3
   },
   "file_extension": ".py",
   "mimetype": "text/x-python",
   "name": "python",
   "nbconvert_exporter": "python",
   "pygments_lexer": "ipython3",
   "version": "3.12.4"
  }
 },
 "nbformat": 4,
 "nbformat_minor": 2
}
